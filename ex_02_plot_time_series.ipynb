{
 "cells": [
  {
   "cell_type": "code",
   "execution_count": 2,
   "metadata": {},
   "outputs": [],
   "source": [
    "import numpy as np\n",
    "import pandas as pd\n",
    "from pathlib import Path\n",
    "from matplotlib import pyplot as plt\n",
    "from plotly.offline import plot\n",
    "\n",
    "import plotly.express as px\n",
    "import plotly.graph_objects as go\n",
    "from plotly.subplots import make_subplots\n",
    "\n",
    "from utils import save_plotly_figure_as_html\n",
    "from ex_01_read_data import get_welding_data\n",
    "\n"
   ]
  },
  {
   "cell_type": "code",
   "execution_count": 3,
   "metadata": {},
   "outputs": [],
   "source": [
    "data_path = Path(\"data/Welding/data.csv\")\n",
    "plot_path = Path(\"plots/ex_02\")"
   ]
  },
  {
   "cell_type": "markdown",
   "metadata": {},
   "source": [
    "## Exercise 2.1: Dataset Statistics Analysis\n",
    "\n",
    "In this exercise, we'll calculate and present comprehensive descriptive statistics for the welding dataset. This statistical overview will help us understand the fundamental characteristics of our data before visualization or modeling.\n",
    "\n",
    "1. Calculate the class distribution to understand data balance\n",
    "2. Count samples per experiment to assess data volume across experimental conditions\n",
    "3. Determine min/max values for voltage and current to understand the range of measurements\n",
    "4. Calculate mean and standard deviation to assess central tendency and variability\n",
    "5. Find median values to identify central points unaffected by outliers"
   ]
  },
  {
   "cell_type": "code",
   "execution_count": 4,
   "metadata": {},
   "outputs": [],
   "source": [
    "data, labels, exp_ids = get_welding_data(data_path)"
   ]
  },
  {
   "cell_type": "code",
   "execution_count": null,
   "metadata": {},
   "outputs": [
    {
     "name": "stdout",
     "output_type": "stream",
     "text": [
      "1. Class Distribution:\n",
      "  Label 0: 90746 samples\n",
      "  Label 1: 67219 samples\n",
      "\n",
      "2. Samples per Experiment:\n",
      "  Experiment 1: 35521 samples\n",
      "  Experiment 2: 17913 samples\n",
      "  Experiment 3: 46768 samples\n",
      "  Experiment 4: 57763 samples\n",
      "\n",
      "3. Min/Max Values:\n",
      "  Current: min = -1.1808, max = 614.1541\n",
      "  Voltage: min = 0.0741, max = 101.4852\n",
      "\n",
      "4. Mean and Standard Deviation:\n",
      "  Current: mean = 173.4557, std = 180.8409\n",
      "  Voltage: mean = 22.0372, std = 6.0248\n",
      "\n",
      "5. Median Values:\n",
      "  Current: median = 68.5884\n",
      "  Voltage: median = 20.8414\n"
     ]
    }
   ],
   "source": [
    "# 1. Class Distribution\n",
    "unique_labels, label_counts = np.unique(labels, return_counts=True)\n",
    "class_distribution = dict(zip(unique_labels, label_counts))\n",
    "print(\"1. Class Distribution:\")\n",
    "for label, count in class_distribution.items():\n",
    "    print(f\"  Label {label}: {count} samples\")\n",
    "\n",
    "# 2. Samples per Experiment\n",
    "unique_exps, exp_counts = np.unique(exp_ids, return_counts=True)\n",
    "exp_distribution = dict(zip(unique_exps, exp_counts))\n",
    "print(\"\\n2. Samples per Experiment:\")\n",
    "for exp_id, count in exp_distribution.items():\n",
    "    print(f\"  Experiment {exp_id}: {count} samples\")\n",
    "\n",
    "current = data[:, :, 0]\n",
    "voltage = data[:, :, 1]\n",
    "\n",
    "current_flat = current.flatten()\n",
    "voltage_flat = voltage.flatten()\n",
    "\n",
    "# 3. Min/Max values\n",
    "print(\"\\n3. Min/Max Values:\")\n",
    "print(f\"  Current: min = {current_flat.min():.4f}, max = {current_flat.max():.4f}\")\n",
    "print(f\"  Voltage: min = {voltage_flat.min():.4f}, max = {voltage_flat.max():.4f}\")\n",
    "\n",
    "# 4. Mean and Standard Deviation\n",
    "print(\"\\n4. Mean and Standard Deviation:\")\n",
    "print(f\"  Current: mean = {current_flat.mean():.4f}, std = {current_flat.std():.4f}\")\n",
    "print(f\"  Voltage: mean = {voltage_flat.mean():.4f}, std = {voltage_flat.std():.4f}\")\n",
    "\n",
    "# 5. Median Values\n",
    "print(\"\\n5. Median Values:\")\n",
    "print(f\"  Current: median = {np.median(current_flat):.4f}\")\n",
    "print(f\"  Voltage: median = {np.median(voltage_flat):.4f}\")"
   ]
  },
  {
   "cell_type": "markdown",
   "metadata": {},
   "source": [
    "## Exercise 2.2: Current and Voltage Distribution Visualization\n",
    "\n",
    "In this exercise, we'll create interactive boxplots to visualize and compare the distributions of voltage and current measurements in the welding data. Boxplots will help us identify central tendencies, spread, and potential outliers in our measurements.\n",
    "\n",
    "1. Create side-by-side boxplots for voltage and current using Plotly\n",
    "2. Display key statistics (median, quartiles, etc.) in a visual format in the plot\n",
    "3. Enable interactive exploration of the distributions\n",
    "4. Save the visualization for future reference"
   ]
  },
  {
   "cell_type": "code",
   "execution_count": 6,
   "metadata": {},
   "outputs": [],
   "source": [
    "data, labels, exp_ids = get_welding_data(data_path, n_samples=10_000)\n",
    "\n",
    "save_path =  plot_path / \"voltage_current_distribution\""
   ]
  },
  {
   "cell_type": "code",
   "execution_count": null,
   "metadata": {},
   "outputs": [
    {
     "name": "stdout",
     "output_type": "stream",
     "text": [
      "Plot saved to: plots/ex_02/voltage_current_distribution.html\n"
     ]
    }
   ],
   "source": [
    "# Flatten current and voltage values\n",
    "current = data[:, :, 0].flatten()\n",
    "voltage = data[:, :, 1].flatten()\n",
    "\n",
    "# Prepare data for Plotly\n",
    "df = pd.DataFrame({\n",
    "    \"Current (A)\": current,\n",
    "    \"Voltage (V)\": voltage\n",
    "})\n",
    "\n",
    "# Melt into long format for grouped boxplot\n",
    "df_melted = df.melt(var_name=\"Measurement\", value_name=\"Value\")\n",
    "\n",
    "# Create side-by-side boxplots\n",
    "fig = px.box(\n",
    "    df_melted,\n",
    "    x=\"Measurement\",\n",
    "    y=\"Value\",\n",
    "    points=\"outliers\",  # show individual outliers\n",
    "    color=\"Measurement\",\n",
    "    title=\"Current and Voltage Distribution (Boxplot)\",\n",
    "    boxmode=\"group\"\n",
    ")\n",
    "\n",
    "fig.update_layout(\n",
    "    yaxis_title=\"Value\",\n",
    "    xaxis_title=\"Measurement Type\",\n",
    "    showlegend=False\n",
    ")\n",
    "\n",
    "plot(fig)\n",
    "\n",
    "save_plotly_figure_as_html(fig, save_path)\n",
    "print(f\"Plot saved to: {save_path.with_suffix('.html')}\")"
   ]
  },
  {
   "cell_type": "markdown",
   "metadata": {},
   "source": [
    "## Exercise 2.3: Time-Series Sequence Visualization\n",
    "\n",
    "In this exercise, we'll implement functions to visualize the time-series patterns of welding cycles. These visualizations will help us understand the temporal relationships between voltage and current during the welding process and identify patterns associated with quality outcomes.\n",
    "\n",
    "1. Create dual-axis plots showing voltage and current over time (10 welding cycles -> sequence_length=10) using matplotlib\n",
    "2. Implement clear legends and labels for data interpretation\n",
    "3. Enable saving of visualizations for reporting and comparison"
   ]
  },
  {
   "cell_type": "code",
   "execution_count": null,
   "metadata": {},
   "outputs": [],
   "source": [
    "\n",
    "data, labels, exp_ids = get_welding_data(data_path, n_samples=100, return_sequences=True, sequence_length=10)\n",
    "save_path = plot_path / \"welding_sample.png\"    "
   ]
  },
  {
   "cell_type": "code",
   "execution_count": null,
   "metadata": {},
   "outputs": [
    {
     "name": "stdout",
     "output_type": "stream",
     "text": [
      "Saved plot to plots/ex_02/welding_sample.png\n"
     ]
    }
   ],
   "source": [
    "def plot_welding_sequence(sequence: np.ndarray, label: int, save_path: Path | None = None):\n",
    "    \"\"\"\n",
    "    Plot a single welding sequence with dual y-axes for voltage and current.\n",
    "\n",
    "    Args:\n",
    "        sequence (np.ndarray): Array of shape (sequence_length, 2) containing current and voltage.\n",
    "        label (int): Class label for the sequence.\n",
    "        save_path (Path | None): If provided, save the plot to this path.\n",
    "    \"\"\"\n",
    "    current = sequence[:, 0]\n",
    "    voltage = sequence[:, 1]\n",
    "    time = np.arange(len(current))\n",
    "\n",
    "    fig, ax1 = plt.subplots(figsize=(10, 5))\n",
    "\n",
    "    color1 = 'tab:blue'\n",
    "    ax1.set_xlabel(\"Time Step\")\n",
    "    ax1.set_ylabel(\"Current (A)\", color=color1)\n",
    "    ax1.plot(time, current, color=color1, label=\"Current\")\n",
    "    ax1.tick_params(axis='y', labelcolor=color1)\n",
    "\n",
    "    ax2 = ax1.twinx()  # instantiate a second axes that shares the same x-axis\n",
    "\n",
    "    color2 = 'tab:red'\n",
    "    ax2.set_ylabel(\"Voltage (V)\", color=color2)\n",
    "    ax2.plot(time, voltage, color=color2, label=\"Voltage\")\n",
    "    ax2.tick_params(axis='y', labelcolor=color2)\n",
    "\n",
    "    plt.title(f\"Welding Cycle (Label: {label})\")\n",
    "    fig.tight_layout()\n",
    "\n",
    "    # Legends\n",
    "    ax1.legend(loc=\"upper left\")\n",
    "    ax2.legend(loc=\"upper right\")\n",
    "\n",
    "    if save_path:\n",
    "        save_path.parent.mkdir(parents=True, exist_ok=True)\n",
    "        plt.savefig(save_path, dpi=300)\n",
    "        print(f\"Saved plot to {save_path}\")\n",
    "    else:\n",
    "        plt.show()\n",
    "\n",
    "    plt.close()\n",
    "\n",
    "sequence = data[0]\n",
    "label = labels[0][0]\n",
    "plot_welding_sequence(sequence, label, save_path)"
   ]
  },
  {
   "cell_type": "markdown",
   "metadata": {},
   "source": [
    "## Exercise 2.4: Interactive Time-Series Visualization with Plotly\n",
    "\n",
    "In this exercise, we'll create enhanced interactive visualizations of welding samples using Plotly. These interactive plots will provide more advanced exploration capabilities for analyzing the time-series patterns.\n",
    "\n",
    "1. Create interactive plots with dual y-axes for voltage and current\n",
    "2. Implement time-based range sliders for detailed exploration\n",
    "3. Add unified tooltips for precise data reading\n",
    "4. Display quality metrics in the plot title\n",
    "5. Save interactive visualizations as HTML for sharing"
   ]
  },
  {
   "cell_type": "code",
   "execution_count": 13,
   "metadata": {},
   "outputs": [
    {
     "data": {
      "application/vnd.plotly.v1+json": {
       "config": {
        "plotlyServerURL": "https://plot.ly"
       },
       "data": [
        {
         "line": {
          "color": "blue"
         },
         "mode": "lines",
         "name": "Current (A)",
         "type": "scatter",
         "x": {
          "bdata": "AAABAAIAAwAEAAUABgAHAAgACQAKAAsADAANAA4ADwAQABEAEgATABQAFQAWABcAGAAZABoAGwAcAB0AHgAfACAAIQAiACMAJAAlACYAJwAoACkAKgArACwALQAuAC8AMAAxADIAMwA0ADUANgA3ADgAOQA6ADsAPAA9AD4APwBAAEEAQgBDAEQARQBGAEcASABJAEoASwBMAE0ATgBPAFAAUQBSAFMAVABVAFYAVwBYAFkAWgBbAFwAXQBeAF8AYABhAGIAYwBkAGUAZgBnAGgAaQBqAGsAbABtAG4AbwBwAHEAcgBzAHQAdQB2AHcAeAB5AHoAewB8AH0AfgB/AIAAgQCCAIMAhACFAIYAhwCIAIkAigCLAIwAjQCOAI8AkACRAJIAkwCUAJUAlgCXAJgAmQCaAJsAnACdAJ4AnwCgAKEAogCjAKQApQCmAKcAqACpAKoAqwCsAK0ArgCvALAAsQCyALMAtAC1ALYAtwC4ALkAugC7ALwAvQC+AL8AwADBAMIAwwDEAMUAxgDHAMgAyQDKAMsAzADNAM4AzwDQANEA0gDTANQA1QDWANcA2ADZANoA2wDcAN0A3gDfAOAA4QDiAOMA5ADlAOYA5wDoAOkA6gDrAOwA7QDuAO8A8ADxAPIA8wD0APUA9gD3APgA+QD6APsA/AD9AP4A/wAAAQEBAgEDAQQBBQEGAQcBCAEJAQoBCwEMAQ0BDgEPARABEQESARMBFAEVARYBFwEYARkBGgEbARwBHQEeAR8BIAEhASIBIwEkASUBJgEnASgBKQEqASsBLAEtAS4BLwEwATEBMgEzATQBNQE2ATcBOAE5AToBOwE8AT0BPgE/AUABQQFCAUMBRAFFAUYBRwFIAUkBSgFLAUwBTQFOAU8BUAFRAVIBUwFUAVUBVgFXAVgBWQFaAVsBXAFdAV4BXwFgAWEBYgFjAWQBZQFmAWcBaAFpAWoBawFsAW0BbgFvAXABcQFyAXMBdAF1AXYBdwF4AXkBegF7AXwBfQF+AX8BgAGBAYIBgwGEAYUBhgGHAYgBiQGKAYsBjAGNAY4BjwGQAZEBkgGTAZQBlQGWAZcBmAGZAZoBmwGcAZ0BngGfAaABoQGiAaMBpAGlAaYBpwGoAakBqgGrAawBrQGuAa8BsAGxAbIBswG0AbUBtgG3AbgBuQG6AbsBvAG9Ab4BvwHAAcEBwgHDAcQBxQHGAccByAHJAcoBywHMAc0BzgHPAdAB0QHSAdMB1AHVAdYB1wHYAdkB2gHbAdwB3QHeAd8B4AHhAeIB4wHkAeUB5gHnAegB6QHqAesB7AHtAe4B7wHwAfEB8gHzAfQB9QH2AfcB+AH5AfoB+wH8Af0B/gH/AQACAQICAgMCBAIFAgYCBwIIAgkCCgILAgwCDQIOAg8CEAIRAhICEwIUAhUCFgIXAhgCGQIaAhsCHAIdAh4CHwIgAiECIgIjAiQCJQImAicCKAIpAioCKwIsAi0CLgIvAjACMQIyAjMCNAI1AjYCNwI4AjkCOgI7AjwCPQI+Aj8CQAJBAkICQwJEAkUCRgJHAkgCSQJKAksCTAJNAk4CTwJQAlECUgJTAlQCVQJWAlcCWAJZAloCWwJcAl0CXgJfAmACYQJiAmMCZAJlAmYCZwJoAmkCagJrAmwCbQJuAm8CcAJxAnICcwJ0AnUCdgJ3AngCeQJ6AnsCfAJ9An4CfwKAAoECggKDAoQChQKGAocCiAKJAooCiwKMAo0CjgKPApACkQKSApMClAKVApYClwKYApkCmgKbApwCnQKeAp8CoAKhAqICowKkAqUCpgKnAqgCqQKqAqsCrAKtAq4CrwKwArECsgKzArQCtQK2ArcCuAK5AroCuwK8Ar0CvgK/AsACwQLCAsMCxALFAsYCxwLIAskCygLLAswCzQLOAs8C0ALRAtIC0wLUAtUC1gLXAtgC2QLaAtsC3ALdAt4C3wLgAuEC4gLjAuQC5QLmAucC6ALpAuoC6wLsAu0C7gLvAvAC8QLyAvMC9AL1AvYC9wL4AvkC+gL7AvwC/QL+Av8CAAMBAwIDAwMEAwUDBgMHAwgDCQMKAwsDDAMNAw4DDwMQAxEDEgMTAxQDFQMWAxcDGAMZAxoDGwMcAx0DHgMfAyADIQMiAyMDJAMlAyYDJwMoAykDKgMrAywDLQMuAy8DMAMxAzIDMwM0AzUDNgM3AzgDOQM6AzsDPAM9Az4DPwNAA0EDQgNDA0QDRQNGA0cDSANJA0oDSwNMA00DTgNPA1ADUQNSA1MDVANVA1YDVwNYA1kDWgNbA1wDXQNeA18DYANhA2IDYwNkA2UDZgNnA2gDaQNqA2sDbANtA24DbwNwA3EDcgNzA3QDdQN2A3cDeAN5A3oDewN8A30DfgN/A4ADgQOCA4MDhAOFA4YDhwOIA4kDigOLA4wDjQOOA48DkAORA5IDkwOUA5UDlgOXA5gDmQOaA5sDnAOdA54DnwOgA6EDogOjA6QDpQOmA6cDqAOpA6oDqwOsA60DrgOvA7ADsQOyA7MDtAO1A7YDtwO4A7kDugO7A7wDvQO+A78DwAPBA8IDwwPEA8UDxgPHA8gDyQPKA8sDzAPNA84DzwPQA9ED0gPTA9QD1QPWA9cD2APZA9oD2wPcA90D3gPfA+AD4QPiA+MD5APlA+YD5wPoA+kD6gPrA+wD7QPuA+8D8APxA/ID8wP0A/UD9gP3A/gD+QP6A/sD/AP9A/4D/wMABAEEAgQDBAQEBQQGBAcECAQJBAoECwQMBA0EDgQPBBAEEQQSBBMEFAQVBBYEFwQYBBkEGgQbBBwEHQQeBB8EIAQhBCIEIwQkBCUEJgQnBCgEKQQqBCsELAQtBC4ELwQwBDEEMgQzBDQENQQ2BDcEOAQ5BDoEOwQ8BD0EPgQ/BEAEQQRCBEMERARFBEYERwRIBEkESgRLBEwETQROBE8EUARRBFIEUwRUBFUEVgRXBFgEWQRaBFsEXARdBF4EXwRgBGEEYgRjBGQEZQRmBGcEaARpBGoEawRsBG0EbgRvBHAEcQRyBHMEdAR1BHYEdwR4BHkEegR7BHwEfQR+BH8EgASBBIIEgwSEBIUEhgSHBIgEiQSKBIsEjASNBI4EjwSQBJEEkgSTBJQElQSWBJcEmASZBJoEmwScBJ0EngSfBKAEoQSiBKMEpASlBKYEpwSoBKkEqgSrBKwErQSuBK8EsASxBLIEswS0BLUEtgS3BLgEuQS6BLsEvAS9BL4EvwTABMEEwgTDBMQExQTGBMcEyATJBMoEywTMBM0EzgTPBNAE0QTSBNME1ATVBNYE1wTYBNkE2gTbBNwE3QTeBN8E4AThBOIE4wTkBOUE5gTnBOgE6QTqBOsE7ATtBO4E7wTwBPEE8gTzBPQE9QT2BPcE+AT5BPoE+wT8BP0E/gT/BAAFAQUCBQMFBAUFBQYFBwUIBQkFCgULBQwFDQUOBQ8FEAURBRIFEwUUBRUFFgUXBRgFGQUaBRsFHAUdBR4FHwUgBSEFIgUjBSQFJQUmBScFKAUpBSoFKwUsBS0FLgUvBTAFMQUyBTMFNAU1BTYFNwU4BTkFOgU7BTwFPQU+BT8FQAVBBUIFQwVEBUUFRgVHBUgFSQVKBUsFTAVNBU4FTwVQBVEFUgVTBVQFVQVWBVcFWAVZBVoFWwVcBV0FXgVfBWAFYQViBWMFZAVlBWYFZwVoBWkFagVrBWwFbQVuBW8FcAVxBXIFcwV0BXUFdgV3BXgFeQV6BXsFfAV9BX4FfwWABYEFggWDBYQFhQWGBYcFiAWJBYoFiwWMBY0FjgWPBZAFkQWSBZMFlAWVBZYFlwWYBZkFmgWbBZwFnQWeBZ8FoAWhBaIFowWkBaUFpgWnBagFqQWqBasFrAWtBa4FrwWwBbEFsgWzBbQFtQW2BbcFuAW5BboFuwW8Bb0FvgW/BcAFwQXCBcMFxAXFBcYFxwXIBckFygXLBcwFzQXOBc8F0AXRBdIF0wXUBdUF1gXXBdgF2QXaBdsF3AXdBd4F3wXgBeEF4gXjBeQF5QXmBecF6AXpBeoF6wXsBe0F7gXvBfAF8QXyBfMF9AX1BfYF9wX4BfkF+gX7BfwF/QX+Bf8FAAYBBgIGAwYEBgUGBgYHBggGCQYKBgsGDAYNBg4GDwYQBhEGEgYTBhQGFQYWBhcGGAYZBhoGGwYcBh0GHgYfBiAGIQYiBiMGJAYlBiYGJwYoBikGKgYrBiwGLQYuBi8GMAYxBjIGMwY0BjUGNgY3BjgGOQY6BjsGPAY9Bj4GPwZABkEGQgZDBkQGRQZGBkcGSAZJBkoGSwZMBk0GTgZPBlAGUQZSBlMGVAZVBlYGVwZYBlkGWgZbBlwGXQZeBl8GYAZhBmIGYwZkBmUGZgZnBmgGaQZqBmsGbAZtBm4GbwZwBnEGcgZzBnQGdQZ2BncGeAZ5BnoGewZ8Bn0GfgZ/BoAGgQaCBoMGhAaFBoYGhwaIBokGigaLBowGjQaOBo8GkAaRBpIGkwaUBpUGlgaXBpgGmQaaBpsGnAadBp4GnwagBqEGogajBqQGpQamBqcGqAapBqoGqwasBq0GrgavBrAGsQayBrMGtAa1BrYGtwa4BrkGuga7BrwGvQa+Br8GwAbBBsIGwwbEBsUGxgbHBsgGyQbKBssGzAbNBs4GzwbQBtEG0gbTBtQG1QbWBtcG2AbZBtoG2wbcBt0G3gbfBuAG4QbiBuMG5AblBuYG5wboBukG6gbrBuwG7QbuBu8G8AbxBvIG8wb0BvUG9gb3BvgG+Qb6BvsG/Ab9Bv4G/wYABwEHAgcDBwQHBQcGBwcHCAcJBwoHCwcMBw0HDgcPBxAHEQcSBxMHFAcVBxYHFwcYBxkHGgcbBxwHHQceBx8HIAchByIHIwckByUHJgcnBygHKQcqBysHLActBy4HLwcwBzEHMgczBzQHNQc2BzcHOAc5BzoHOwc8Bz0HPgc/B0AHQQdCB0MHRAdFB0YHRwdIB0kHSgdLB0wHTQdOB08HUAdRB1IHUwdUB1UHVgdXB1gHWQdaB1sHXAddB14HXwdgB2EHYgdjB2QHZQdmB2cHaAdpB2oHawdsB20HbgdvB3AHcQdyB3MHdAd1B3YHdwd4B3kHegd7B3wHfQd+B38HgAeBB4IHgweEB4UHhgeHB4gHiQeKB4sHjAeNB44HjweQB5EHkgeTB5QHlQeWB5cHmAeZB5oHmwecB50HngefB6AHoQeiB6MHpAelB6YHpweoB6kHqgerB6wHrQeuB68HsAexB7IHswe0B7UHtge3B7gHuQe6B7sHvAe9B74HvwfAB8EHwgfDB8QHxQfGB8cHyAfJB8oHywfMB80HzgfPBw==",
          "dtype": "i2"
         },
         "xaxis": "x",
         "y": {
          "bdata": "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",
          "dtype": "f8"
         },
         "yaxis": "y"
        },
        {
         "line": {
          "color": "red"
         },
         "mode": "lines",
         "name": "Voltage (V)",
         "type": "scatter",
         "x": {
          "bdata": "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",
          "dtype": "i2"
         },
         "xaxis": "x",
         "y": {
          "bdata": "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",
          "dtype": "f8"
         },
         "yaxis": "y2"
        }
       ],
       "layout": {
        "hovermode": "x unified",
        "legend": {
         "x": 0.01,
         "y": 0.99
        },
        "template": {
         "data": {
          "bar": [
           {
            "error_x": {
             "color": "#2a3f5f"
            },
            "error_y": {
             "color": "#2a3f5f"
            },
            "marker": {
             "line": {
              "color": "white",
              "width": 0.5
             },
             "pattern": {
              "fillmode": "overlay",
              "size": 10,
              "solidity": 0.2
             }
            },
            "type": "bar"
           }
          ],
          "barpolar": [
           {
            "marker": {
             "line": {
              "color": "white",
              "width": 0.5
             },
             "pattern": {
              "fillmode": "overlay",
              "size": 10,
              "solidity": 0.2
             }
            },
            "type": "barpolar"
           }
          ],
          "carpet": [
           {
            "aaxis": {
             "endlinecolor": "#2a3f5f",
             "gridcolor": "#C8D4E3",
             "linecolor": "#C8D4E3",
             "minorgridcolor": "#C8D4E3",
             "startlinecolor": "#2a3f5f"
            },
            "baxis": {
             "endlinecolor": "#2a3f5f",
             "gridcolor": "#C8D4E3",
             "linecolor": "#C8D4E3",
             "minorgridcolor": "#C8D4E3",
             "startlinecolor": "#2a3f5f"
            },
            "type": "carpet"
           }
          ],
          "choropleth": [
           {
            "colorbar": {
             "outlinewidth": 0,
             "ticks": ""
            },
            "type": "choropleth"
           }
          ],
          "contour": [
           {
            "colorbar": {
             "outlinewidth": 0,
             "ticks": ""
            },
            "colorscale": [
             [
              0,
              "#0d0887"
             ],
             [
              0.1111111111111111,
              "#46039f"
             ],
             [
              0.2222222222222222,
              "#7201a8"
             ],
             [
              0.3333333333333333,
              "#9c179e"
             ],
             [
              0.4444444444444444,
              "#bd3786"
             ],
             [
              0.5555555555555556,
              "#d8576b"
             ],
             [
              0.6666666666666666,
              "#ed7953"
             ],
             [
              0.7777777777777778,
              "#fb9f3a"
             ],
             [
              0.8888888888888888,
              "#fdca26"
             ],
             [
              1,
              "#f0f921"
             ]
            ],
            "type": "contour"
           }
          ],
          "contourcarpet": [
           {
            "colorbar": {
             "outlinewidth": 0,
             "ticks": ""
            },
            "type": "contourcarpet"
           }
          ],
          "heatmap": [
           {
            "colorbar": {
             "outlinewidth": 0,
             "ticks": ""
            },
            "colorscale": [
             [
              0,
              "#0d0887"
             ],
             [
              0.1111111111111111,
              "#46039f"
             ],
             [
              0.2222222222222222,
              "#7201a8"
             ],
             [
              0.3333333333333333,
              "#9c179e"
             ],
             [
              0.4444444444444444,
              "#bd3786"
             ],
             [
              0.5555555555555556,
              "#d8576b"
             ],
             [
              0.6666666666666666,
              "#ed7953"
             ],
             [
              0.7777777777777778,
              "#fb9f3a"
             ],
             [
              0.8888888888888888,
              "#fdca26"
             ],
             [
              1,
              "#f0f921"
             ]
            ],
            "type": "heatmap"
           }
          ],
          "histogram": [
           {
            "marker": {
             "pattern": {
              "fillmode": "overlay",
              "size": 10,
              "solidity": 0.2
             }
            },
            "type": "histogram"
           }
          ],
          "histogram2d": [
           {
            "colorbar": {
             "outlinewidth": 0,
             "ticks": ""
            },
            "colorscale": [
             [
              0,
              "#0d0887"
             ],
             [
              0.1111111111111111,
              "#46039f"
             ],
             [
              0.2222222222222222,
              "#7201a8"
             ],
             [
              0.3333333333333333,
              "#9c179e"
             ],
             [
              0.4444444444444444,
              "#bd3786"
             ],
             [
              0.5555555555555556,
              "#d8576b"
             ],
             [
              0.6666666666666666,
              "#ed7953"
             ],
             [
              0.7777777777777778,
              "#fb9f3a"
             ],
             [
              0.8888888888888888,
              "#fdca26"
             ],
             [
              1,
              "#f0f921"
             ]
            ],
            "type": "histogram2d"
           }
          ],
          "histogram2dcontour": [
           {
            "colorbar": {
             "outlinewidth": 0,
             "ticks": ""
            },
            "colorscale": [
             [
              0,
              "#0d0887"
             ],
             [
              0.1111111111111111,
              "#46039f"
             ],
             [
              0.2222222222222222,
              "#7201a8"
             ],
             [
              0.3333333333333333,
              "#9c179e"
             ],
             [
              0.4444444444444444,
              "#bd3786"
             ],
             [
              0.5555555555555556,
              "#d8576b"
             ],
             [
              0.6666666666666666,
              "#ed7953"
             ],
             [
              0.7777777777777778,
              "#fb9f3a"
             ],
             [
              0.8888888888888888,
              "#fdca26"
             ],
             [
              1,
              "#f0f921"
             ]
            ],
            "type": "histogram2dcontour"
           }
          ],
          "mesh3d": [
           {
            "colorbar": {
             "outlinewidth": 0,
             "ticks": ""
            },
            "type": "mesh3d"
           }
          ],
          "parcoords": [
           {
            "line": {
             "colorbar": {
              "outlinewidth": 0,
              "ticks": ""
             }
            },
            "type": "parcoords"
           }
          ],
          "pie": [
           {
            "automargin": true,
            "type": "pie"
           }
          ],
          "scatter": [
           {
            "fillpattern": {
             "fillmode": "overlay",
             "size": 10,
             "solidity": 0.2
            },
            "type": "scatter"
           }
          ],
          "scatter3d": [
           {
            "line": {
             "colorbar": {
              "outlinewidth": 0,
              "ticks": ""
             }
            },
            "marker": {
             "colorbar": {
              "outlinewidth": 0,
              "ticks": ""
             }
            },
            "type": "scatter3d"
           }
          ],
          "scattercarpet": [
           {
            "marker": {
             "colorbar": {
              "outlinewidth": 0,
              "ticks": ""
             }
            },
            "type": "scattercarpet"
           }
          ],
          "scattergeo": [
           {
            "marker": {
             "colorbar": {
              "outlinewidth": 0,
              "ticks": ""
             }
            },
            "type": "scattergeo"
           }
          ],
          "scattergl": [
           {
            "marker": {
             "colorbar": {
              "outlinewidth": 0,
              "ticks": ""
             }
            },
            "type": "scattergl"
           }
          ],
          "scattermap": [
           {
            "marker": {
             "colorbar": {
              "outlinewidth": 0,
              "ticks": ""
             }
            },
            "type": "scattermap"
           }
          ],
          "scattermapbox": [
           {
            "marker": {
             "colorbar": {
              "outlinewidth": 0,
              "ticks": ""
             }
            },
            "type": "scattermapbox"
           }
          ],
          "scatterpolar": [
           {
            "marker": {
             "colorbar": {
              "outlinewidth": 0,
              "ticks": ""
             }
            },
            "type": "scatterpolar"
           }
          ],
          "scatterpolargl": [
           {
            "marker": {
             "colorbar": {
              "outlinewidth": 0,
              "ticks": ""
             }
            },
            "type": "scatterpolargl"
           }
          ],
          "scatterternary": [
           {
            "marker": {
             "colorbar": {
              "outlinewidth": 0,
              "ticks": ""
             }
            },
            "type": "scatterternary"
           }
          ],
          "surface": [
           {
            "colorbar": {
             "outlinewidth": 0,
             "ticks": ""
            },
            "colorscale": [
             [
              0,
              "#0d0887"
             ],
             [
              0.1111111111111111,
              "#46039f"
             ],
             [
              0.2222222222222222,
              "#7201a8"
             ],
             [
              0.3333333333333333,
              "#9c179e"
             ],
             [
              0.4444444444444444,
              "#bd3786"
             ],
             [
              0.5555555555555556,
              "#d8576b"
             ],
             [
              0.6666666666666666,
              "#ed7953"
             ],
             [
              0.7777777777777778,
              "#fb9f3a"
             ],
             [
              0.8888888888888888,
              "#fdca26"
             ],
             [
              1,
              "#f0f921"
             ]
            ],
            "type": "surface"
           }
          ],
          "table": [
           {
            "cells": {
             "fill": {
              "color": "#EBF0F8"
             },
             "line": {
              "color": "white"
             }
            },
            "header": {
             "fill": {
              "color": "#C8D4E3"
             },
             "line": {
              "color": "white"
             }
            },
            "type": "table"
           }
          ]
         },
         "layout": {
          "annotationdefaults": {
           "arrowcolor": "#2a3f5f",
           "arrowhead": 0,
           "arrowwidth": 1
          },
          "autotypenumbers": "strict",
          "coloraxis": {
           "colorbar": {
            "outlinewidth": 0,
            "ticks": ""
           }
          },
          "colorscale": {
           "diverging": [
            [
             0,
             "#8e0152"
            ],
            [
             0.1,
             "#c51b7d"
            ],
            [
             0.2,
             "#de77ae"
            ],
            [
             0.3,
             "#f1b6da"
            ],
            [
             0.4,
             "#fde0ef"
            ],
            [
             0.5,
             "#f7f7f7"
            ],
            [
             0.6,
             "#e6f5d0"
            ],
            [
             0.7,
             "#b8e186"
            ],
            [
             0.8,
             "#7fbc41"
            ],
            [
             0.9,
             "#4d9221"
            ],
            [
             1,
             "#276419"
            ]
           ],
           "sequential": [
            [
             0,
             "#0d0887"
            ],
            [
             0.1111111111111111,
             "#46039f"
            ],
            [
             0.2222222222222222,
             "#7201a8"
            ],
            [
             0.3333333333333333,
             "#9c179e"
            ],
            [
             0.4444444444444444,
             "#bd3786"
            ],
            [
             0.5555555555555556,
             "#d8576b"
            ],
            [
             0.6666666666666666,
             "#ed7953"
            ],
            [
             0.7777777777777778,
             "#fb9f3a"
            ],
            [
             0.8888888888888888,
             "#fdca26"
            ],
            [
             1,
             "#f0f921"
            ]
           ],
           "sequentialminus": [
            [
             0,
             "#0d0887"
            ],
            [
             0.1111111111111111,
             "#46039f"
            ],
            [
             0.2222222222222222,
             "#7201a8"
            ],
            [
             0.3333333333333333,
             "#9c179e"
            ],
            [
             0.4444444444444444,
             "#bd3786"
            ],
            [
             0.5555555555555556,
             "#d8576b"
            ],
            [
             0.6666666666666666,
             "#ed7953"
            ],
            [
             0.7777777777777778,
             "#fb9f3a"
            ],
            [
             0.8888888888888888,
             "#fdca26"
            ],
            [
             1,
             "#f0f921"
            ]
           ]
          },
          "colorway": [
           "#636efa",
           "#EF553B",
           "#00cc96",
           "#ab63fa",
           "#FFA15A",
           "#19d3f3",
           "#FF6692",
           "#B6E880",
           "#FF97FF",
           "#FECB52"
          ],
          "font": {
           "color": "#2a3f5f"
          },
          "geo": {
           "bgcolor": "white",
           "lakecolor": "white",
           "landcolor": "white",
           "showlakes": true,
           "showland": true,
           "subunitcolor": "#C8D4E3"
          },
          "hoverlabel": {
           "align": "left"
          },
          "hovermode": "closest",
          "mapbox": {
           "style": "light"
          },
          "paper_bgcolor": "white",
          "plot_bgcolor": "white",
          "polar": {
           "angularaxis": {
            "gridcolor": "#EBF0F8",
            "linecolor": "#EBF0F8",
            "ticks": ""
           },
           "bgcolor": "white",
           "radialaxis": {
            "gridcolor": "#EBF0F8",
            "linecolor": "#EBF0F8",
            "ticks": ""
           }
          },
          "scene": {
           "xaxis": {
            "backgroundcolor": "white",
            "gridcolor": "#DFE8F3",
            "gridwidth": 2,
            "linecolor": "#EBF0F8",
            "showbackground": true,
            "ticks": "",
            "zerolinecolor": "#EBF0F8"
           },
           "yaxis": {
            "backgroundcolor": "white",
            "gridcolor": "#DFE8F3",
            "gridwidth": 2,
            "linecolor": "#EBF0F8",
            "showbackground": true,
            "ticks": "",
            "zerolinecolor": "#EBF0F8"
           },
           "zaxis": {
            "backgroundcolor": "white",
            "gridcolor": "#DFE8F3",
            "gridwidth": 2,
            "linecolor": "#EBF0F8",
            "showbackground": true,
            "ticks": "",
            "zerolinecolor": "#EBF0F8"
           }
          },
          "shapedefaults": {
           "line": {
            "color": "#2a3f5f"
           }
          },
          "ternary": {
           "aaxis": {
            "gridcolor": "#DFE8F3",
            "linecolor": "#A2B1C6",
            "ticks": ""
           },
           "baxis": {
            "gridcolor": "#DFE8F3",
            "linecolor": "#A2B1C6",
            "ticks": ""
           },
           "bgcolor": "white",
           "caxis": {
            "gridcolor": "#DFE8F3",
            "linecolor": "#A2B1C6",
            "ticks": ""
           }
          },
          "title": {
           "x": 0.05
          },
          "xaxis": {
           "automargin": true,
           "gridcolor": "#EBF0F8",
           "linecolor": "#EBF0F8",
           "ticks": "",
           "title": {
            "standoff": 15
           },
           "zerolinecolor": "#EBF0F8",
           "zerolinewidth": 2
          },
          "yaxis": {
           "automargin": true,
           "gridcolor": "#EBF0F8",
           "linecolor": "#EBF0F8",
           "ticks": "",
           "title": {
            "standoff": 15
           },
           "zerolinecolor": "#EBF0F8",
           "zerolinewidth": 2
          }
         }
        },
        "title": {
         "text": "Welding Sample | Label: 1 | Experiment ID: 4"
        },
        "xaxis": {
         "anchor": "y",
         "domain": [
          0,
          0.94
         ],
         "rangeslider": {
          "visible": true
         },
         "title": {
          "text": "Time Step"
         },
         "type": "linear"
        },
        "yaxis": {
         "anchor": "x",
         "domain": [
          0,
          1
         ],
         "title": {
          "text": "Current (A)"
         }
        },
        "yaxis2": {
         "anchor": "x",
         "overlaying": "y",
         "side": "right",
         "title": {
          "text": "Voltage (V)"
         }
        }
       }
      }
     },
     "metadata": {},
     "output_type": "display_data"
    }
   ],
   "source": [
    "def create_plotly_plot(data: np.ndarray, labels: np.ndarray, exp_ids: np.ndarray = None) -> go.Figure:\n",
    "    \"\"\"\n",
    "    Create an interactive Plotly visualization of a random welding sample.\n",
    "\n",
    "    Args:\n",
    "        data (np.ndarray): Array containing voltage and current data\n",
    "        labels (np.ndarray): Array containing class labels\n",
    "        exp_ids (np.ndarray, optional): Array containing experiment IDs. Defaults to None.\n",
    "\n",
    "    Returns:\n",
    "        plotly.graph_objects.Figure: Interactive Plotly figure object\n",
    "    \"\"\"\n",
    "    # Select a random sequence\n",
    "    idx = np.random.randint(len(data))\n",
    "    sequence = data[idx]\n",
    "    label = labels[idx][0]\n",
    "    exp_id = exp_ids[idx][0] if exp_ids is not None else \"N/A\"\n",
    "\n",
    "    current = sequence[:, 0]\n",
    "    voltage = sequence[:, 1]\n",
    "    time = np.arange(len(current))\n",
    "\n",
    "    fig = make_subplots(specs=[[{\"secondary_y\": True}]])\n",
    "    \n",
    "    # Add current (primary y-axis)\n",
    "    fig.add_trace(\n",
    "        go.Scatter(x=time, y=current, name=\"Current (A)\", mode=\"lines\", line=dict(color=\"blue\")),\n",
    "        secondary_y=False\n",
    "    )\n",
    "\n",
    "    # Add voltage (secondary y-axis)\n",
    "    fig.add_trace(\n",
    "        go.Scatter(x=time, y=voltage, name=\"Voltage (V)\", mode=\"lines\", line=dict(color=\"red\")),\n",
    "        secondary_y=True\n",
    "    )\n",
    "\n",
    "    # Update layout\n",
    "    fig.update_layout(\n",
    "        title_text=f\"Welding Sample | Label: {label} | Experiment ID: {exp_id}\",\n",
    "        xaxis_title=\"Time Step\",\n",
    "        yaxis_title=\"Current (A)\",\n",
    "        yaxis2_title=\"Voltage (V)\",\n",
    "        legend=dict(x=0.01, y=0.99),\n",
    "        hovermode=\"x unified\",\n",
    "        xaxis=dict(\n",
    "            rangeslider=dict(visible=True),\n",
    "            type=\"linear\"\n",
    "        ),\n",
    "        template=\"plotly_white\"\n",
    "    )\n",
    "\n",
    "    return fig\n",
    "\n",
    "\n",
    "fig = create_plotly_plot(data, labels, exp_ids)\n",
    "save_plotly_figure_as_html(fig, plot_path / \"welding_samples\")\n",
    "fig.show()"
   ]
  },
  {
   "cell_type": "markdown",
   "metadata": {},
   "source": [
    "## Exercise 2.5: Multiple Sample Comparison\n",
    "\n",
    "In this exercise, we'll generate and compare visualizations from multiple random welding samples. This comparison will help us identify common patterns and variations across different welding cycles.\n",
    " \n",
    "\n",
    "1. Generate multiple random sample visualizations using matplotlib of single welding cycles\n",
    "2. Create dual-axis plots showing voltage and current over time\n",
    "3. Implement clear legends and labels for data interpretation\n",
    "4. Save each visualization for comparison"
   ]
  },
  {
   "cell_type": "code",
   "execution_count": null,
   "metadata": {},
   "outputs": [],
   "source": [
    "data, labels, exp_ids = get_welding_data(data_path, n_samples=1_000)"
   ]
  },
  {
   "cell_type": "code",
   "execution_count": 15,
   "metadata": {},
   "outputs": [
    {
     "name": "stdout",
     "output_type": "stream",
     "text": [
      "Saved plot to plots/ex_02/welding_sample_0.png\n",
      "Saved plot to plots/ex_02/welding_sample_1.png\n",
      "Saved plot to plots/ex_02/welding_sample_2.png\n",
      "Saved plot to plots/ex_02/welding_sample_3.png\n",
      "Saved plot to plots/ex_02/welding_sample_4.png\n"
     ]
    }
   ],
   "source": [
    "for i in range(5):\n",
    "    plot_random_sample(data, labels, save_path=plot_path / f\"welding_sample_{i}.png\")\n",
    "    "
   ]
  },
  {
   "cell_type": "code",
   "execution_count": 14,
   "metadata": {},
   "outputs": [],
   "source": [
    "def plot_random_sample(data: np.ndarray, labels: np.ndarray, save_path: Path | None = None):\n",
    "    \"\"\"\n",
    "    Plot a random welding sample with dual y-axes (current and voltage) using matplotlib.\n",
    "\n",
    "    Args:\n",
    "        data (np.ndarray): Array of shape (n_samples, timesteps, 2), with current and voltage.\n",
    "        labels (np.ndarray): Array of class labels, shape (n_samples,) or (n_samples, timesteps).\n",
    "        save_path (Path | None): If provided, save the plot to this path.\n",
    "    \"\"\"\n",
    "    idx = np.random.randint(len(data))\n",
    "    sample = data[idx]\n",
    "    label = labels[idx][0]\n",
    "\n",
    "    return plot_welding_sequence(sample, label, save_path)"
   ]
  }
 ],
 "metadata": {
  "kernelspec": {
   "display_name": ".venv",
   "language": "python",
   "name": "python3"
  },
  "language_info": {
   "codemirror_mode": {
    "name": "ipython",
    "version": 3
   },
   "file_extension": ".py",
   "mimetype": "text/x-python",
   "name": "python",
   "nbconvert_exporter": "python",
   "pygments_lexer": "ipython3",
   "version": "3.13.3"
  }
 },
 "nbformat": 4,
 "nbformat_minor": 2
}
